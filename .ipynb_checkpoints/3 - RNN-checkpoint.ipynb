{
 "cells": [
  {
   "cell_type": "markdown",
   "metadata": {},
   "source": [
    "# RNN"
   ]
  },
  {
   "cell_type": "code",
   "execution_count": 1,
   "metadata": {},
   "outputs": [],
   "source": [
    "import tensorflow as tf\n",
    "\n",
    "from tensorflow.keras.datasets import imdb"
   ]
  },
  {
   "cell_type": "markdown",
   "metadata": {},
   "source": [
    "## 1. Pre procesado"
   ]
  },
  {
   "cell_type": "code",
   "execution_count": 4,
   "metadata": {},
   "outputs": [],
   "source": [
    "# Parametros\n",
    "number_of_words = 20000 #fijamos el número máximo de palabras del dataset\n",
    "max_len = 100 #Extensión máxima del dataframe\n",
    "\n",
    "#carga del dataset\n",
    "(X_train, y_train), (X_test, y_test) = imdb.load_data(num_words=number_of_words)"
   ]
  },
  {
   "cell_type": "code",
   "execution_count": 5,
   "metadata": {},
   "outputs": [],
   "source": [
    "#hacemos que todas las reviews tengan el mísmo tamaño\n",
    "X_train = tf.keras.preprocessing.sequence.pad_sequences(X_train, maxlen=max_len)\n",
    "X_test = tf.keras.preprocessing.sequence.pad_sequences(X_test, maxlen=max_len)"
   ]
  },
  {
   "cell_type": "code",
   "execution_count": 6,
   "metadata": {},
   "outputs": [],
   "source": [
    "#Parametros capa de embedding\n",
    "vocab_size = number_of_words\n",
    "embed_size = 128"
   ]
  },
  {
   "cell_type": "markdown",
   "metadata": {},
   "source": [
    "# 2. Construcción de la RNN"
   ]
  },
  {
   "cell_type": "markdown",
   "metadata": {},
   "source": [
    "### 1. Capa Embedding\n",
    "* Input_dim: el número de datos de entrada\n",
    "* output_dim: el número de datos de salida\n",
    "* Input_shape: el tamaño de la matriz de palabras y frases\n",
    "\n",
    "### 2. Capa LSTM\n",
    "* 128 unidades\n",
    "* Activación Tanh (Tangente Hiperbólica)\n",
    "\n",
    "### 3. Capa fully Connected"
   ]
  },
  {
   "cell_type": "code",
   "execution_count": 13,
   "metadata": {},
   "outputs": [],
   "source": [
    "model = tf.keras.Sequential()\n",
    "\n",
    "#Capa de embedding\n",
    "model.add(tf.keras.layers.Embedding(input_dim=vocab_size, output_dim=embed_size, input_shape=[X_train.shape[1],]))\n",
    "\n",
    "#Capa LSTM\n",
    "model.add(tf.keras.layers.LSTM(units=128, activation='tanh'))\n",
    "\n",
    "#Capa fully connected\n",
    "model.add(tf.keras.layers.Dense(units=1, activation='sigmoid'))\n",
    "\n",
    "#compilamos\n",
    "model.compile(loss='binary_crossentropy', optimizer='rmsprop', metrics=['accuracy'])"
   ]
  },
  {
   "cell_type": "code",
   "execution_count": null,
   "metadata": {},
   "outputs": [
    {
     "name": "stdout",
     "output_type": "stream",
     "text": [
      "Train on 25000 samples\n",
      "Epoch 1/10\n",
      "WARNING:tensorflow:From C:\\Users\\alberto.rubiales\\miniconda3\\envs\\Arubiales_projects\\lib\\site-packages\\tensorflow_core\\python\\ops\\nn_impl.py:183: where (from tensorflow.python.ops.array_ops) is deprecated and will be removed in a future version.\n",
      "Instructions for updating:\n",
      "Use tf.where in 2.0, which has the same broadcast rule as np.where\n",
      "25000/25000 [==============================] - 62s 2ms/sample - loss: 0.4590 - accuracy: 0.7914\n",
      "Epoch 2/10\n",
      " 5376/25000 [=====>........................] - ETA: 45s - loss: 0.2775 - accuracy: 0.8956"
     ]
    }
   ],
   "source": [
    "model.fit(X_train, y_train, epochs=10, batch_size=128) #el batchsize la misma dimensión que la capa de embedding"
   ]
  },
  {
   "cell_type": "code",
   "execution_count": null,
   "metadata": {},
   "outputs": [],
   "source": [
    "test_loss, test_acurracy = model.evaluate(X_test, y_test)"
   ]
  },
  {
   "cell_type": "code",
   "execution_count": null,
   "metadata": {},
   "outputs": [],
   "source": [
    "test_acurracy"
   ]
  }
 ],
 "metadata": {
  "kernelspec": {
   "display_name": "Python 3",
   "language": "python",
   "name": "python3"
  },
  "language_info": {
   "codemirror_mode": {
    "name": "ipython",
    "version": 3
   },
   "file_extension": ".py",
   "mimetype": "text/x-python",
   "name": "python",
   "nbconvert_exporter": "python",
   "pygments_lexer": "ipython3",
   "version": "3.7.3"
  }
 },
 "nbformat": 4,
 "nbformat_minor": 2
}
